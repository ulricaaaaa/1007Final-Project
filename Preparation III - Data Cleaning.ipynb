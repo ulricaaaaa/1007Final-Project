{
 "cells": [
  {
   "cell_type": "markdown",
   "metadata": {},
   "source": [
    "# Preparation III - Data Cleaning"
   ]
  },
  {
   "cell_type": "markdown",
   "metadata": {},
   "source": [
    "Too many information are nested in the dataset, and in this document we would clean the dataset.\n",
    "\n",
    "Two goals are achieved here:\n",
    "1. We got 2 datasets separately, one regarding salaries and another regarding ratings. We will merge the two.\n",
    "2. We will drop duplicated and irrelevant data."
   ]
  },
  {
   "cell_type": "code",
   "execution_count": 16,
   "metadata": {},
   "outputs": [],
   "source": [
    "import pandas as pd\n",
    "import numpy as np"
   ]
  },
  {
   "cell_type": "code",
   "execution_count": 33,
   "metadata": {},
   "outputs": [],
   "source": [
    "df1 = pd.read_csv('salaries_all.csv')\n",
    "df2 = pd.read_csv('Data_Glassdoor.csv')\n",
    "df2 = df2.rename(columns={'name':'company_name'})\n",
    "df_merged = pd.merge(df1,df2,on='company_name')\n",
    "df_merged.to_csv('Merged_Data.csv', sep = ',', index = False)\n",
    "df_merged.drop(['attributionURL', 'parentEmployer','perOccEmployerDefaultCountryBasePayCount',\n",
    "                'sectorId','squareLogo','perOccUnfilteredThisCountryBasePayCount', 'companyLogo',\n",
    "                'company_longName','exactMatch','featuredReview','industry','website','jobTitleId',\n",
    "                'count','ceo','id_x','id_y','industryId','Unnamed: 0','totalSalariesCount','obscureType'], \n",
    "               axis=1,inplace=True)\n",
    "df_merged = df_merged.drop_duplicates()"
   ]
  },
  {
   "cell_type": "code",
   "execution_count": 34,
   "metadata": {},
   "outputs": [],
   "source": [
    "df_merged.to_csv('FinalData.csv', sep = ',', index = False)"
   ]
  },
  {
   "cell_type": "code",
   "execution_count": 35,
   "metadata": {},
   "outputs": [],
   "source": [
    "df1 = pd.read_csv('salaries_own.csv')\n",
    "df2 = pd.read_csv('rating_own.csv')\n",
    "df2 = df2.rename(columns={'name':'company_name'})\n",
    "df_merged = pd.merge(df1,df2,on='company_name')\n",
    "df_merged.to_csv('Merged_Data.csv', sep = ',', index = False)\n",
    "df_merged.drop(['attributionURL','perOccEmployerDefaultCountryBasePayCount',\n",
    "                'sectorId','squareLogo','perOccUnfilteredThisCountryBasePayCount', 'companyLogo',\n",
    "                'company_longName','exactMatch','industry','website','jobTitleId',\n",
    "                'count','id_x','id_y','industryId','totalSalariesCount','obscureType'], \n",
    "               axis=1,inplace=True)\n",
    "df_merged = df_merged.drop_duplicates()"
   ]
  },
  {
   "cell_type": "code",
   "execution_count": 36,
   "metadata": {},
   "outputs": [],
   "source": [
    "df_merged.to_csv('TestData.csv', sep = ',', index = False)"
   ]
  }
 ],
 "metadata": {
  "kernelspec": {
   "display_name": "Python 3",
   "language": "python",
   "name": "python3"
  },
  "language_info": {
   "codemirror_mode": {
    "name": "ipython",
    "version": 3
   },
   "file_extension": ".py",
   "mimetype": "text/x-python",
   "name": "python",
   "nbconvert_exporter": "python",
   "pygments_lexer": "ipython3",
   "version": "3.7.3"
  }
 },
 "nbformat": 4,
 "nbformat_minor": 2
}
